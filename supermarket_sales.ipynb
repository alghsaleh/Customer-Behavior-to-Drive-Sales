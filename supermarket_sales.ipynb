{
 "cells": [
  {
   "cell_type": "markdown",
   "metadata": {},
   "source": [
    "# Customer Behavior to Drive Sales \n",
    "\n",
    "This notebook is to be submitted for \"Project 4: Write A Data Science Blog Post\" as part of [Udacity's Data Scientist Nanodegree](https://www.udacity.com/course/data-scientist-nanodegree). In this project, I am tasked with choosing a dataset, identifying three questions, and analyzing the data to find answers to these questions while following [CRISP-DM Process](https://www.ibm.com/support/knowledgecenter/en/SS3RA7_15.0.0/com.ibm.spss.crispdm.help/crisp_overview.htm). I am then tasked with writing a blog post in which I communicate findings to non-technical audience."
   ]
  },
  {
   "cell_type": "markdown",
   "metadata": {},
   "source": [
    "## 1. Business Understanding\n",
    "\n",
    "The dataset in use has been provided by supermarket company detailing their sales activities. The task is to find some insights that can help them improve their sales and marketing strategies.\n",
    "\n",
    "Three questions were proposed:\n",
    "* What quantities at which gender-specific customers generate more gross income?\n",
    "* How payment method affect gender-specific customer experience?\n",
    "* What day of the week product lines generates more gross income?"
   ]
  },
  {
   "cell_type": "markdown",
   "metadata": {},
   "source": [
    "## 2. Data Understanding"
   ]
  },
  {
   "cell_type": "code",
   "execution_count": 153,
   "metadata": {},
   "outputs": [],
   "source": [
    "# importing necessary libraries\n",
    "import numpy as np\n",
    "import pandas as pd\n",
    "\n",
    "from IPython.display import display\n",
    "\n",
    "import seaborn as sns\n",
    "from matplotlib import pyplot as plt\n",
    "%matplotlib inline\n",
    "plt.style.use('ggplot')\n",
    "\n",
    "import warnings\n",
    "warnings.filterwarnings(action='once')"
   ]
  },
  {
   "cell_type": "code",
   "execution_count": 154,
   "metadata": {},
   "outputs": [
    {
     "name": "stdout",
     "output_type": "stream",
     "text": [
      "(rows, columns): (1000, 17)\n"
     ]
    }
   ],
   "source": [
    "# reading supermarket_sales data\n",
    "df = pd.read_csv('supermarket_sales.csv')\n",
    "print('(rows, columns):', df.shape)"
   ]
  },
  {
   "cell_type": "markdown",
   "metadata": {},
   "source": [
    "**Attribute Information:**  \n",
    "1. `Invoice id`: Computer-generated nvoice identification number.  \n",
    "2. `Branch`: Supercenter branch.\n",
    "3. `City`: Supercenters location.\n",
    "4. `Customer type`: Type of customers, members are member card holder and normal without member cards.  \n",
    "5. `Gender`: Gender type of customer.\n",
    "6. `Product line`: General item categorization groups.\n",
    "7. `Unit price`: Price of each product in U.S. Dollars.\n",
    "8. `Quantity`: Number of products purchased by customer.  \n",
    "9. `Tax`: 5% tax fee on total amount. \n",
    "10. `Total`: Total price including tax. \n",
    "11. `Date`: Date of purchase.  \n",
    "12. `Time`: Purchase time.\n",
    "13. `Payment`: Payment method used by customer for purchase.  \n",
    "14. `COGS`: Cost of goods sold.\n",
    "15. `Gross margin percentage`: Gross margin percentage.\n",
    "16. `Gross income`: Gross income.\n",
    "17. `Rating`: Customer stratification rating for shopping experience (On a scale of 1 to 10)."
   ]
  },
  {
   "cell_type": "code",
   "execution_count": 155,
   "metadata": {},
   "outputs": [
    {
     "data": {
      "text/html": [
       "<div>\n",
       "<style scoped>\n",
       "    .dataframe tbody tr th:only-of-type {\n",
       "        vertical-align: middle;\n",
       "    }\n",
       "\n",
       "    .dataframe tbody tr th {\n",
       "        vertical-align: top;\n",
       "    }\n",
       "\n",
       "    .dataframe thead th {\n",
       "        text-align: right;\n",
       "    }\n",
       "</style>\n",
       "<table border=\"1\" class=\"dataframe\">\n",
       "  <thead>\n",
       "    <tr style=\"text-align: right;\">\n",
       "      <th></th>\n",
       "      <th>Invoice ID</th>\n",
       "      <th>Branch</th>\n",
       "      <th>City</th>\n",
       "      <th>Customer type</th>\n",
       "      <th>Gender</th>\n",
       "      <th>Product line</th>\n",
       "      <th>Unit price</th>\n",
       "      <th>Quantity</th>\n",
       "      <th>Tax 5%</th>\n",
       "      <th>Total</th>\n",
       "      <th>Date</th>\n",
       "      <th>Time</th>\n",
       "      <th>Payment</th>\n",
       "      <th>cogs</th>\n",
       "      <th>gross margin percentage</th>\n",
       "      <th>gross income</th>\n",
       "      <th>Rating</th>\n",
       "    </tr>\n",
       "  </thead>\n",
       "  <tbody>\n",
       "    <tr>\n",
       "      <th>0</th>\n",
       "      <td>750-67-8428</td>\n",
       "      <td>A</td>\n",
       "      <td>Yangon</td>\n",
       "      <td>Member</td>\n",
       "      <td>Female</td>\n",
       "      <td>Health and beauty</td>\n",
       "      <td>74.69</td>\n",
       "      <td>7</td>\n",
       "      <td>26.1415</td>\n",
       "      <td>548.9715</td>\n",
       "      <td>1/5/2019</td>\n",
       "      <td>13:08</td>\n",
       "      <td>Ewallet</td>\n",
       "      <td>522.83</td>\n",
       "      <td>4.761905</td>\n",
       "      <td>26.1415</td>\n",
       "      <td>9.1</td>\n",
       "    </tr>\n",
       "    <tr>\n",
       "      <th>1</th>\n",
       "      <td>226-31-3081</td>\n",
       "      <td>C</td>\n",
       "      <td>Naypyitaw</td>\n",
       "      <td>Normal</td>\n",
       "      <td>Female</td>\n",
       "      <td>Electronic accessories</td>\n",
       "      <td>15.28</td>\n",
       "      <td>5</td>\n",
       "      <td>3.8200</td>\n",
       "      <td>80.2200</td>\n",
       "      <td>3/8/2019</td>\n",
       "      <td>10:29</td>\n",
       "      <td>Cash</td>\n",
       "      <td>76.40</td>\n",
       "      <td>4.761905</td>\n",
       "      <td>3.8200</td>\n",
       "      <td>9.6</td>\n",
       "    </tr>\n",
       "    <tr>\n",
       "      <th>2</th>\n",
       "      <td>631-41-3108</td>\n",
       "      <td>A</td>\n",
       "      <td>Yangon</td>\n",
       "      <td>Normal</td>\n",
       "      <td>Male</td>\n",
       "      <td>Home and lifestyle</td>\n",
       "      <td>46.33</td>\n",
       "      <td>7</td>\n",
       "      <td>16.2155</td>\n",
       "      <td>340.5255</td>\n",
       "      <td>3/3/2019</td>\n",
       "      <td>13:23</td>\n",
       "      <td>Credit card</td>\n",
       "      <td>324.31</td>\n",
       "      <td>4.761905</td>\n",
       "      <td>16.2155</td>\n",
       "      <td>7.4</td>\n",
       "    </tr>\n",
       "    <tr>\n",
       "      <th>3</th>\n",
       "      <td>123-19-1176</td>\n",
       "      <td>A</td>\n",
       "      <td>Yangon</td>\n",
       "      <td>Member</td>\n",
       "      <td>Male</td>\n",
       "      <td>Health and beauty</td>\n",
       "      <td>58.22</td>\n",
       "      <td>8</td>\n",
       "      <td>23.2880</td>\n",
       "      <td>489.0480</td>\n",
       "      <td>1/27/2019</td>\n",
       "      <td>20:33</td>\n",
       "      <td>Ewallet</td>\n",
       "      <td>465.76</td>\n",
       "      <td>4.761905</td>\n",
       "      <td>23.2880</td>\n",
       "      <td>8.4</td>\n",
       "    </tr>\n",
       "    <tr>\n",
       "      <th>4</th>\n",
       "      <td>373-73-7910</td>\n",
       "      <td>A</td>\n",
       "      <td>Yangon</td>\n",
       "      <td>Normal</td>\n",
       "      <td>Male</td>\n",
       "      <td>Sports and travel</td>\n",
       "      <td>86.31</td>\n",
       "      <td>7</td>\n",
       "      <td>30.2085</td>\n",
       "      <td>634.3785</td>\n",
       "      <td>2/8/2019</td>\n",
       "      <td>10:37</td>\n",
       "      <td>Ewallet</td>\n",
       "      <td>604.17</td>\n",
       "      <td>4.761905</td>\n",
       "      <td>30.2085</td>\n",
       "      <td>5.3</td>\n",
       "    </tr>\n",
       "    <tr>\n",
       "      <th>5</th>\n",
       "      <td>699-14-3026</td>\n",
       "      <td>C</td>\n",
       "      <td>Naypyitaw</td>\n",
       "      <td>Normal</td>\n",
       "      <td>Male</td>\n",
       "      <td>Electronic accessories</td>\n",
       "      <td>85.39</td>\n",
       "      <td>7</td>\n",
       "      <td>29.8865</td>\n",
       "      <td>627.6165</td>\n",
       "      <td>3/25/2019</td>\n",
       "      <td>18:30</td>\n",
       "      <td>Ewallet</td>\n",
       "      <td>597.73</td>\n",
       "      <td>4.761905</td>\n",
       "      <td>29.8865</td>\n",
       "      <td>4.1</td>\n",
       "    </tr>\n",
       "    <tr>\n",
       "      <th>6</th>\n",
       "      <td>355-53-5943</td>\n",
       "      <td>A</td>\n",
       "      <td>Yangon</td>\n",
       "      <td>Member</td>\n",
       "      <td>Female</td>\n",
       "      <td>Electronic accessories</td>\n",
       "      <td>68.84</td>\n",
       "      <td>6</td>\n",
       "      <td>20.6520</td>\n",
       "      <td>433.6920</td>\n",
       "      <td>2/25/2019</td>\n",
       "      <td>14:36</td>\n",
       "      <td>Ewallet</td>\n",
       "      <td>413.04</td>\n",
       "      <td>4.761905</td>\n",
       "      <td>20.6520</td>\n",
       "      <td>5.8</td>\n",
       "    </tr>\n",
       "    <tr>\n",
       "      <th>7</th>\n",
       "      <td>315-22-5665</td>\n",
       "      <td>C</td>\n",
       "      <td>Naypyitaw</td>\n",
       "      <td>Normal</td>\n",
       "      <td>Female</td>\n",
       "      <td>Home and lifestyle</td>\n",
       "      <td>73.56</td>\n",
       "      <td>10</td>\n",
       "      <td>36.7800</td>\n",
       "      <td>772.3800</td>\n",
       "      <td>2/24/2019</td>\n",
       "      <td>11:38</td>\n",
       "      <td>Ewallet</td>\n",
       "      <td>735.60</td>\n",
       "      <td>4.761905</td>\n",
       "      <td>36.7800</td>\n",
       "      <td>8.0</td>\n",
       "    </tr>\n",
       "    <tr>\n",
       "      <th>8</th>\n",
       "      <td>665-32-9167</td>\n",
       "      <td>A</td>\n",
       "      <td>Yangon</td>\n",
       "      <td>Member</td>\n",
       "      <td>Female</td>\n",
       "      <td>Health and beauty</td>\n",
       "      <td>36.26</td>\n",
       "      <td>2</td>\n",
       "      <td>3.6260</td>\n",
       "      <td>76.1460</td>\n",
       "      <td>1/10/2019</td>\n",
       "      <td>17:15</td>\n",
       "      <td>Credit card</td>\n",
       "      <td>72.52</td>\n",
       "      <td>4.761905</td>\n",
       "      <td>3.6260</td>\n",
       "      <td>7.2</td>\n",
       "    </tr>\n",
       "    <tr>\n",
       "      <th>9</th>\n",
       "      <td>692-92-5582</td>\n",
       "      <td>B</td>\n",
       "      <td>Mandalay</td>\n",
       "      <td>Member</td>\n",
       "      <td>Female</td>\n",
       "      <td>Food and beverages</td>\n",
       "      <td>54.84</td>\n",
       "      <td>3</td>\n",
       "      <td>8.2260</td>\n",
       "      <td>172.7460</td>\n",
       "      <td>2/20/2019</td>\n",
       "      <td>13:27</td>\n",
       "      <td>Credit card</td>\n",
       "      <td>164.52</td>\n",
       "      <td>4.761905</td>\n",
       "      <td>8.2260</td>\n",
       "      <td>5.9</td>\n",
       "    </tr>\n",
       "  </tbody>\n",
       "</table>\n",
       "</div>"
      ],
      "text/plain": [
       "    Invoice ID Branch       City Customer type  Gender  \\\n",
       "0  750-67-8428      A     Yangon        Member  Female   \n",
       "1  226-31-3081      C  Naypyitaw        Normal  Female   \n",
       "2  631-41-3108      A     Yangon        Normal    Male   \n",
       "3  123-19-1176      A     Yangon        Member    Male   \n",
       "4  373-73-7910      A     Yangon        Normal    Male   \n",
       "5  699-14-3026      C  Naypyitaw        Normal    Male   \n",
       "6  355-53-5943      A     Yangon        Member  Female   \n",
       "7  315-22-5665      C  Naypyitaw        Normal  Female   \n",
       "8  665-32-9167      A     Yangon        Member  Female   \n",
       "9  692-92-5582      B   Mandalay        Member  Female   \n",
       "\n",
       "             Product line  Unit price  Quantity   Tax 5%     Total       Date  \\\n",
       "0       Health and beauty       74.69         7  26.1415  548.9715   1/5/2019   \n",
       "1  Electronic accessories       15.28         5   3.8200   80.2200   3/8/2019   \n",
       "2      Home and lifestyle       46.33         7  16.2155  340.5255   3/3/2019   \n",
       "3       Health and beauty       58.22         8  23.2880  489.0480  1/27/2019   \n",
       "4       Sports and travel       86.31         7  30.2085  634.3785   2/8/2019   \n",
       "5  Electronic accessories       85.39         7  29.8865  627.6165  3/25/2019   \n",
       "6  Electronic accessories       68.84         6  20.6520  433.6920  2/25/2019   \n",
       "7      Home and lifestyle       73.56        10  36.7800  772.3800  2/24/2019   \n",
       "8       Health and beauty       36.26         2   3.6260   76.1460  1/10/2019   \n",
       "9      Food and beverages       54.84         3   8.2260  172.7460  2/20/2019   \n",
       "\n",
       "    Time      Payment    cogs  gross margin percentage  gross income  Rating  \n",
       "0  13:08      Ewallet  522.83                 4.761905       26.1415     9.1  \n",
       "1  10:29         Cash   76.40                 4.761905        3.8200     9.6  \n",
       "2  13:23  Credit card  324.31                 4.761905       16.2155     7.4  \n",
       "3  20:33      Ewallet  465.76                 4.761905       23.2880     8.4  \n",
       "4  10:37      Ewallet  604.17                 4.761905       30.2085     5.3  \n",
       "5  18:30      Ewallet  597.73                 4.761905       29.8865     4.1  \n",
       "6  14:36      Ewallet  413.04                 4.761905       20.6520     5.8  \n",
       "7  11:38      Ewallet  735.60                 4.761905       36.7800     8.0  \n",
       "8  17:15  Credit card   72.52                 4.761905        3.6260     7.2  \n",
       "9  13:27  Credit card  164.52                 4.761905        8.2260     5.9  "
      ]
     },
     "execution_count": 155,
     "metadata": {},
     "output_type": "execute_result"
    }
   ],
   "source": [
    "# exploring data\n",
    "df.head(10)"
   ]
  },
  {
   "cell_type": "markdown",
   "metadata": {},
   "source": [
    "## 3. Data Preparation"
   ]
  },
  {
   "cell_type": "code",
   "execution_count": 156,
   "metadata": {},
   "outputs": [
    {
     "data": {
      "text/plain": [
       "Index(['Invoice ID', 'Branch', 'City', 'Customer type', 'Gender',\n",
       "       'Product line', 'Unit price', 'Quantity', 'Tax 5%', 'Total', 'Date',\n",
       "       'Time', 'Payment', 'cogs', 'gross margin percentage', 'gross income',\n",
       "       'Rating'],\n",
       "      dtype='object')"
      ]
     },
     "execution_count": 156,
     "metadata": {},
     "output_type": "execute_result"
    }
   ],
   "source": [
    "df.columns"
   ]
  },
  {
   "cell_type": "markdown",
   "metadata": {},
   "source": [
    "Not all columns are needed in this analysis. Based on the questions proposed, only columns `Gender`, `Product line`, `Quantity`, `Date`, `Time`, `Payment`, `gross income`, and `Rating` are needed.\n",
    "\n",
    "Also, since the objective of this analysis is quite simple and no application of machine learning will be used, and [with seaborn's capability to handle categorical variables](https://seaborn.pydata.org/tutorial/categorical.html), no further action will be taken on categorical variables and will be used as it is. Obviously, this saves the time and effort of encoding categorical variables and having to remap them again when plotting graphs."
   ]
  },
  {
   "cell_type": "code",
   "execution_count": 157,
   "metadata": {},
   "outputs": [
    {
     "data": {
      "text/plain": [
       "Index(['gender', 'product_line', 'quantity', 'date', 'time', 'payment',\n",
       "       'gross_income', 'rating'],\n",
       "      dtype='object')"
      ]
     },
     "execution_count": 157,
     "metadata": {},
     "output_type": "execute_result"
    }
   ],
   "source": [
    "# regenerating df with only necessary columns\n",
    "df = df[['Gender', 'Product line', 'Quantity', 'Date', 'Time', 'Payment', 'gross income', 'Rating']]\n",
    "\n",
    "# renaming columns for usability purposes\n",
    "df.columns = ['gender', 'product_line', 'quantity', 'date', 'time', 'payment', 'gross_income', 'rating']\n",
    "\n",
    "df.columns"
   ]
  },
  {
   "cell_type": "code",
   "execution_count": 158,
   "metadata": {},
   "outputs": [],
   "source": [
    "def combine_date_time(data, date, time, drop=True, front=False):\n",
    "    '''\n",
    "    Takes two separate date and time columns\n",
    "    and combine them into one datetime object column\n",
    "    \n",
    "    KEYWORD ARGUMENTS:\n",
    "        # data -- DataFrame\n",
    "            data source\n",
    "            \n",
    "        # date, time -- str\n",
    "            names for date and time columns\n",
    "            \n",
    "        # drop -- bool, default: True\n",
    "            if True, drops old date and time columns\n",
    "            \n",
    "        # front -- bool, default: False\n",
    "            if True, brings new datetime columns to index 0\n",
    "            \n",
    "    OUTPUT:\n",
    "        DataFrame with new datetime object column\n",
    "        and old date and time columns dropped\n",
    "    '''\n",
    "    data['datetime'] = data[date] + ' ' + data[time]\n",
    "    data.datetime = pd.to_datetime(data.datetime, infer_datetime_format=True)\n",
    "    \n",
    "    if drop == True:\n",
    "        data.drop(columns=[date, time], inplace=True)\n",
    "    \n",
    "    if front == True:\n",
    "        data = data.set_index('datetime').reset_index()"
   ]
  },
  {
   "cell_type": "code",
   "execution_count": 159,
   "metadata": {},
   "outputs": [],
   "source": [
    "# converting date and time columns to one 'datetime' column\n",
    "combine_date_time(df, 'date', 'time')"
   ]
  },
  {
   "cell_type": "code",
   "execution_count": 160,
   "metadata": {},
   "outputs": [
    {
     "data": {
      "text/plain": [
       "gender                  object\n",
       "product_line            object\n",
       "quantity                 int64\n",
       "payment                 object\n",
       "gross_income           float64\n",
       "rating                 float64\n",
       "datetime        datetime64[ns]\n",
       "dtype: object"
      ]
     },
     "execution_count": 160,
     "metadata": {},
     "output_type": "execute_result"
    }
   ],
   "source": [
    "df.dtypes"
   ]
  },
  {
   "cell_type": "code",
   "execution_count": 161,
   "metadata": {},
   "outputs": [
    {
     "data": {
      "text/plain": [
       "gender          0\n",
       "product_line    0\n",
       "quantity        0\n",
       "payment         0\n",
       "gross_income    0\n",
       "rating          0\n",
       "datetime        0\n",
       "dtype: int64"
      ]
     },
     "execution_count": 161,
     "metadata": {},
     "output_type": "execute_result"
    }
   ],
   "source": [
    "# assessing missing values \n",
    "df.isnull().sum()"
   ]
  },
  {
   "cell_type": "markdown",
   "metadata": {},
   "source": [
    "No missing values in the data. No further action is necessary."
   ]
  },
  {
   "cell_type": "code",
   "execution_count": 162,
   "metadata": {},
   "outputs": [],
   "source": [
    "# defining a function to help in plotting graphs\n",
    "def plot_grpah(figsize=(10,8), figtype=None, y=None, x=None, hue=None, labels=None, save=False):\n",
    "    '''\n",
    "    Plots y, x, and hue arrays using seaborn library\n",
    "     \n",
    "    KEYWORD ARGUMENTS:\n",
    "        # figszie -- float, float, default: (10,8)\n",
    "            (width, height) in inches\n",
    "\n",
    "        # figtype -- str\n",
    "            figure type, options: 'barplot', 'boxplot', and 'pointplot'\n",
    "            \n",
    "        # y, x, hue -- array\n",
    "            inputs for plotting long-form data\n",
    "            \n",
    "        # labels -- list, default: None\n",
    "            in order (figure_title, ylabel, xlabel, legend_title)\n",
    "            \n",
    "        # save -- bool, default: False\n",
    "            save figure in 'png' format to main folder, uses figure's title as filename\n",
    "    \n",
    "    OUTPUT\n",
    "        returns Axes object with the plot drawn onto it\n",
    "    '''\n",
    "    # plotting figure\n",
    "    fig = plt.figure(figsize=figsize)\n",
    "    \n",
    "    if figtype == 'pointplot':\n",
    "        ax = sns.pointplot(y=y, x=x, hue=hue)\n",
    "    elif figtype == 'boxplot':\n",
    "        ax = sns.boxplot(y=y, x=x, hue=hue)\n",
    "    elif figtype == 'barplot':\n",
    "        ax = sns.barplot(y=y, x=x, hue=hue, ci=False)\n",
    "    else:\n",
    "        print('figtype must be specified')\n",
    "    \n",
    "    # setting up labels\n",
    "    fig = plt.title(labels[0])\n",
    "    ax.set_ylabel(labels[1])\n",
    "    ax.set_xlabel(labels[2])\n",
    "    fig = plt.legend(title=labels[3], loc='upper left', bbox_to_anchor=(1.0, 0.5), ncol=1)\n",
    "    \n",
    "    # exporting and showing figure\n",
    "    if save == True:\n",
    "        plt.savefig(fname=labels[0].replace(\" \", \"_\").lower(), dpi=72, bbox_inches='tight')       \n",
    "    \n",
    "    plt.show()"
   ]
  },
  {
   "cell_type": "markdown",
   "metadata": {},
   "source": [
    "## 4. ~~Modeling & Evaluating~~ Analysis"
   ]
  },
  {
   "cell_type": "markdown",
   "metadata": {},
   "source": [
    "### 4.1. What quantities at which gender-specific customers generate more gross income?"
   ]
  },
  {
   "cell_type": "markdown",
   "metadata": {},
   "source": [
    "To answer this question, a `pointplot` will be used with `gross_income` divided by `quantity` on the y-axis to get gross income per item, `quantity` on the x-axis, and hue to be `gender` as a grouping variable to distinguish the two groups from each other."
   ]
  },
  {
   "cell_type": "code",
   "execution_count": 163,
   "metadata": {},
   "outputs": [
    {
     "data": {
      "image/png": "[encoded data removed]",
      "text/plain": [
       "<Figure size 720x576 with 1 Axes>"
      ]
     },
     "metadata": {},
     "output_type": "display_data"
    }
   ],
   "source": [
    "plot_grpah(\n",
    "    figtype='pointplot', y=(df.gross_income/df.quantity), x=df.quantity, hue=df.gender, save=True,\n",
    "    labels=['Gross Income by Gender in Terms of Quantity', 'Gross Income Per Item ($)', 'Quantity', 'Gender']\n",
    ")"
   ]
  },
  {
   "cell_type": "markdown",
   "metadata": {},
   "source": [
    "The graph shows that male customers generate more gross income per item when buying items at lower quantity. This is most clear at a quantity of 1. On the other hand, female customers tend to generate more gross income per item when buying at higher quantities. Clearly shown at quantities 6, 7, and 8."
   ]
  },
  {
   "cell_type": "markdown",
   "metadata": {},
   "source": [
    "### 4.2. How payment method affect gender-specific customer satisfaction?"
   ]
  },
  {
   "cell_type": "markdown",
   "metadata": {},
   "source": [
    "To answer this question, a `boxplot` will be used with `rating` on y-axis, `payment` on the x-axis, and hue to be `gender` as a grouping variable to distinguish the two groups from each other."
   ]
  },
  {
   "cell_type": "code",
   "execution_count": 164,
   "metadata": {},
   "outputs": [
    {
     "data": {
      "image/png": "[encoded data removed]",
      "text/plain": [
       "<Figure size 720x576 with 1 Axes>"
      ]
     },
     "metadata": {},
     "output_type": "display_data"
    }
   ],
   "source": [
    "plot_grpah(\n",
    "    figtype='boxplot', y=df.rating, x=df.payment, hue=df.gender, save=True,\n",
    "    labels=['Customer Satisfaction by Gender in Terms of Payment Method', 'Rating', 'Payment Method', 'Gender']\n",
    ")"
   ]
  },
  {
   "cell_type": "markdown",
   "metadata": {},
   "source": [
    "The graph shows that male customers tend to give higher satisfaction ratings for shopping experience when they pay using e-wallets or credit cards. Female customers, contrarily, tend to give higher satisfaction ratings for shopping experience when paying in cash."
   ]
  },
  {
   "cell_type": "markdown",
   "metadata": {},
   "source": [
    "### 4.3. What day of the week on which certain product lines generate more gross income?"
   ]
  },
  {
   "cell_type": "markdown",
   "metadata": {},
   "source": [
    "To answer this question, a `barplot` will be used with `gross_income` divided by `quantity` on the y-axis to get gross income per item, weekday will be extracted from `datetime` on the x-axis, and hue to be `product_line` as a grouping variable to distinguish groups from each other."
   ]
  },
  {
   "cell_type": "code",
   "execution_count": 165,
   "metadata": {},
   "outputs": [
    {
     "data": {
      "image/png": "[encoded data removed]",
      "text/plain": [
       "<Figure size 1224x576 with 1 Axes>"
      ]
     },
     "metadata": {},
     "output_type": "display_data"
    }
   ],
   "source": [
    "plot_grpah(\n",
    "    figsize=(17,8), figtype='barplot', y=(df.gross_income/df.quantity), x=df.datetime.dt.weekday_name, hue=df.product_line,\n",
    "    labels=['Product Line Gross Income by Day of The Week', 'Gross Income Per Item ($)', 'Day of The Week', 'Product Line'],\n",
    "    save=True\n",
    ")"
   ]
  },
  {
   "cell_type": "markdown",
   "metadata": {},
   "source": [
    "The graph shows that best gross income per item on Mondays and Thursdays are _fashion accessories_ items, on Tuesdays and Wednesdays are _electronic accessories_ items, on Fridays are_sports and travel_ items, on Saturdays are _food and beverages_ items, and on Sundays are _home and lifestyle_ items. \n",
    "\n",
    "The graph also shows some interesting trends. For example, there is a significant increase in gross income per item on Fridays for _sport and travel_. Fridays also happen to be the worst day of the week for _home and lifestyle_ and _food and beverages_ items in terms of gross income per item. This might suggest a relationship between the three that should be investigated further."
   ]
  },
  {
   "cell_type": "markdown",
   "metadata": {},
   "source": [
    "## 5. Deployment"
   ]
  },
  {
   "cell_type": "markdown",
   "metadata": {},
   "source": [
    "Notebook is available on [GitHub](https://github.com/alghsaleh/Customer-Behavior-to-Drive-Sales/blob/master/supermarket_sales.ipynb) and [Kaggle](https://www.kaggle.com/alghsaleh/customer-behavior-to-drive-sales). Blog post is available on [Medium](https://medium.com/@alghsaleh/customer-behavior-to-drive-sales-aaeeefb0b39e?source=friends_link&sk=2d1735c7229a5a0341547ffc1189fda7)."
   ]
  }
 ],
 "metadata": {
  "kernelspec": {
   "display_name": "Python 3",
   "language": "python",
   "name": "python3"
  },
  "language_info": {
   "codemirror_mode": {
    "name": "ipython",
    "version": 3
   },
   "file_extension": ".py",
   "mimetype": "text/x-python",
   "name": "python",
   "nbconvert_exporter": "python",
   "pygments_lexer": "ipython3",
   "version": "3.7.3"
  }
 },
 "nbformat": 4,
 "nbformat_minor": 2
}
